{
 "cells": [
  {
   "cell_type": "markdown",
   "metadata": {},
   "source": [
    "This exercise will require you to pull some data from https://data.nasdaq.com/ (formerly Quandl API)."
   ]
  },
  {
   "cell_type": "markdown",
   "metadata": {},
   "source": [
    "As a first step, you will need to register a free account on the https://data.nasdaq.com/ website."
   ]
  },
  {
   "cell_type": "markdown",
   "metadata": {},
   "source": [
    "After you register, you will be provided with a unique API key, that you should store:\n",
    "\n",
    "*Note*: Use a `.env` file and put your key in there and `python-dotenv` to access it in this notebook. \n",
    "\n",
    "The code below uses a key that was used when generating this project but has since been deleted. Never submit your keys to source control. There is a `.env-example` file in this repository to illusrtate what you need. Copy that to a file called `.env` and use your own api key in that `.env` file. Make sure you also have a `.gitignore` file with a line for `.env` added to it. \n",
    "\n",
    "The standard Python gitignore is [here](https://github.com/github/gitignore/blob/master/Python.gitignore) you can just copy that. "
   ]
  },
  {
   "cell_type": "code",
   "execution_count": 3,
   "metadata": {},
   "outputs": [
    {
     "name": "stdout",
     "output_type": "stream",
     "text": [
      "VzqTLz7ydXPYs4xPnY4d\n"
     ]
    }
   ],
   "source": [
    "# get api key from your .env file\n",
    "import os\n",
    "from dotenv import load_dotenv  # if missing this module, simply run `pip install python-dotenv`\n",
    "\n",
    "load_dotenv()\n",
    "API_KEY = os.getenv('NASDAQ_API_KEY')\n",
    "\n",
    "print(API_KEY)"
   ]
  },
  {
   "cell_type": "markdown",
   "metadata": {},
   "source": [
    "Nasdaq Data has a large number of data sources, but, unfortunately, most of them require a Premium subscription. Still, there are also a good number of free datasets."
   ]
  },
  {
   "cell_type": "markdown",
   "metadata": {},
   "source": [
    "For this mini project, we will focus on equities data from the Frankfurt Stock Exhange (FSE), which is available for free. We'll try and analyze the stock prices of a company called Carl Zeiss Meditec, which manufactures tools for eye examinations, as well as medical lasers for laser eye surgery: https://www.zeiss.com/meditec/int/home.html. The company is listed under the stock ticker AFX_X."
   ]
  },
  {
   "cell_type": "markdown",
   "metadata": {},
   "source": [
    "You can find the detailed Nasdaq Data API instructions here: https://docs.data.nasdaq.com/docs/in-depth-usage"
   ]
  },
  {
   "cell_type": "markdown",
   "metadata": {},
   "source": [
    "While there is a dedicated Python package for connecting to the Nasdaq API, we would prefer that you use the *requests* package, which can be easily downloaded using *pip* or *conda*. You can find the documentation for the package here: http://docs.python-requests.org/en/master/ "
   ]
  },
  {
   "cell_type": "markdown",
   "metadata": {},
   "source": [
    "Finally, apart from the *requests* package, you are encouraged to not use any third party Python packages, such as *pandas*, and instead focus on what's available in the Python Standard Library (the *collections* module might come in handy: https://pymotw.com/3/collections/).\n",
    "Also, since you won't have access to DataFrames, you are encouraged to us Python's native data structures - preferably dictionaries, though some questions can also be answered using lists.\n",
    "You can read more on these data structures here: https://docs.python.org/3/tutorial/datastructures.html"
   ]
  },
  {
   "cell_type": "markdown",
   "metadata": {},
   "source": [
    "Keep in mind that the JSON responses you will be getting from the API map almost one-to-one to Python's dictionaries. Unfortunately, they can be very nested, so make sure you read up on indexing dictionaries in the documentation provided above."
   ]
  },
  {
   "cell_type": "code",
   "execution_count": 79,
   "metadata": {},
   "outputs": [],
   "source": [
    "import requests\n",
    "# First, import the relevant modules"
   ]
  },
  {
   "cell_type": "markdown",
   "metadata": {},
   "source": [
    "Note: API's can change a bit with each version, for this exercise it is reccomended to use the nasdaq api at `https://data.nasdaq.com/api/v3/`. This is the same api as what used to be quandl so `https://www.quandl.com/api/v3/` should work too.\n",
    "\n",
    "Hint: We are looking for the `AFX_X` data on the `datasets/FSE/` dataset."
   ]
  },
  {
   "cell_type": "code",
   "execution_count": 256,
   "metadata": {},
   "outputs": [
    {
     "name": "stdout",
     "output_type": "stream",
     "text": [
      "The data of AFX_X stock for whole year of 2017 is saved in dictionery format at variable data_dict\n",
      "The highest Openning Price in 2017 was 53.11\n",
      "The lowest Openning Price in 2017 was 34.0\n",
      "The largest price change in one day in 2017 was 2.8100000000000023\n",
      "The largest price change between two days in 2017 was 2.559999999999995\n",
      "The average  daily volume  in 2017 was 89124.33725490196\n"
     ]
    }
   ],
   "source": [
    "AFX_X=requests.get(\"https://data.nasdaq.com/api/v3/datasets/FSE/AFX_X/data.json?api_key=VzqTLz7ydXPYs4xPnY4d\")\n",
    "AFX_X_text=AFX_X.text\n",
    "import json\n",
    "result=json.loads(AFX_X_text)\n",
    "\n",
    "data_dict={}\n",
    "data_2017=[]\n",
    "data=result['dataset_data']['data']\n",
    "\n",
    "for i in data:\n",
    "    if i[0][:4]=='2017':\n",
    "        data_2017.append(i)\n",
    "\n",
    "data_dict[\"2017\"]=Data_2017\n",
    "openingPrice=[]\n",
    "priceChange=[]\n",
    "dailyVolume=[]\n",
    "for i in Data_2017:\n",
    "    if i[1]!= None:\n",
    "        openingPrice.append(i[1])\n",
    "    if (i[2]!= None) and (i[3]!= None):\n",
    "        priceChange.append(abs(i[2]-i[3]))\n",
    "    if (i[6]!= None):\n",
    "        dailyVolume.append(i[6])\n",
    "        \n",
    "        \n",
    "change_between_two_days=[]\n",
    "for i in range(len(Data_2017)-1):\n",
    "    if (data_2017[i][4]!=None) and (data_2017[i+1][4]!=None):\n",
    "        change_between_two_days.append(abs(data_2017[i+1][4]-data_2017[i][4]))\n",
    "\n",
    "        \n",
    "openingPrice_min=(min(openingPrice))\n",
    "openingPrice_max=(max(openingPrice))\n",
    "priceChange_max=max(priceChange)\n",
    "change_between_two_days_max=max(change_between_two_days)\n",
    "average_volume=sum(dailyVolume)/len(dailyVolume)\n",
    "\n",
    "print(\"The data of AFX_X stock for whole year of 2017 is saved in dictionery format at variable data_dict\")\n",
    "print(\"The highest Openning Price in 2017 was\",openingPrice_max)\n",
    "print(\"The lowest Openning Price in 2017 was\",openingPrice_min)\n",
    "print(\"The largest price change in one day in 2017 was\",priceChange_max)\n",
    "print(\"The largest price change between two days in 2017 was\",change_between_two_days_max)\n",
    "print(\"The average  daily volume  in 2017 was\",average_volume)\n",
    "\n",
    "# Now, call the Nasdaq API and pull out a small sample of the data (only one day) to get a glimpse\n",
    "# into the JSON structure that will be returned"
   ]
  },
  {
   "cell_type": "markdown",
   "metadata": {},
   "source": [
    "These are your tasks for this mini project:\n",
    "\n",
    "1. Collect data from the Franfurt Stock Exchange, for the ticker AFX_X, for the whole year 2017 (keep in mind that the date format is YYYY-MM-DD).\n",
    "2. Convert the returned JSON object into a Python dictionary.\n",
    "3. Calculate what the highest and lowest opening prices were for the stock in this period.\n",
    "4. What was the largest change in any one day (based on High and Low price)?\n",
    "5. What was the largest change between any two days (based on Closing Price)?\n",
    "6. What was the average daily trading volume during this year?\n",
    "7. (Optional) What was the median trading volume during this year. (Note: you may need to implement your own function for calculating the median.)"
   ]
  }
 ],
 "metadata": {
  "interpreter": {
   "hash": "4885f37acae9217c235118400878352aafa7b76e66df698a1f601374f86939a7"
  },
  "kernelspec": {
   "display_name": "Python 3 (ipykernel)",
   "language": "python",
   "name": "python3"
  },
  "language_info": {
   "codemirror_mode": {
    "name": "ipython",
    "version": 3
   },
   "file_extension": ".py",
   "mimetype": "text/x-python",
   "name": "python",
   "nbconvert_exporter": "python",
   "pygments_lexer": "ipython3",
   "version": "3.7.11"
  }
 },
 "nbformat": 4,
 "nbformat_minor": 4
}
